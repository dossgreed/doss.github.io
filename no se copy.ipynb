{
 "cells": [
  {
   "cell_type": "code",
   "execution_count": 10,
   "metadata": {},
   "outputs": [],
   "source": [
    "import mysql.connector\n",
    "import bcrypt\n",
    "import re  # Para usar expresiones regulares en la validación de contraseñas\n",
    "\n",
    "# Datos de conexión a la base de datos\n",
    "DB_HOST = \"b4axyho3yrtcor1vlcof-mysql.services.clever-cloud.com\"\n",
    "DB_NAME = \"b4axyho3yrtcor1vlcof\"\n",
    "DB_USER = \"umppnjai4hpsfxb3\"\n",
    "DB_PASSWORD = \"C2NQx1PpyVlWOjVuxPoC\"\n",
    "DB_PORT = 3306\n",
    "\n",
    "def create_connection():\n",
    "    try:\n",
    "        connection = mysql.connector.connect(\n",
    "            host=DB_HOST,\n",
    "            user=DB_USER,\n",
    "            password=DB_PASSWORD,\n",
    "            database=DB_NAME,\n",
    "            port=DB_PORT\n",
    "        )\n",
    "        if connection.is_connected():\n",
    "            print(\"Conexión exitosa a la base de datos.\")\n",
    "        return connection\n",
    "    except mysql.connector.Error as err:\n",
    "        print(f\"Error al conectar a la base de datos: {err}\")\n",
    "        return None\n",
    "\n",
    "def validate_password(password):\n",
    "    \"\"\"Valida que la contraseña tenga al menos 8 caracteres, \n",
    "    un carácter especial, una mayúscula y un número.\"\"\"\n",
    "    if (len(password) >= 8 and\n",
    "        re.search(r\"[A-Z]\", password) and\n",
    "        re.search(r\"[0-9]\", password) and\n",
    "        re.search(r\"[@$!%*?&]\", password)):\n",
    "        return True\n",
    "    else:\n",
    "        return False\n",
    "\n",
    "def user_exists(connection, username):\n",
    "    \"\"\"Verifica si el usuario ya existe en la base de datos.\"\"\"\n",
    "    cursor = connection.cursor()\n",
    "    query = \"SELECT * FROM users WHERE username = %s\"\n",
    "    cursor.execute(query, (username,))\n",
    "    result = cursor.fetchone()\n",
    "    cursor.close()\n",
    "    return result is not None\n",
    "\n",
    "def register_user(username, password):\n",
    "    connection = create_connection()\n",
    "    if not connection:\n",
    "        print(\"No se pudo conectar a la base de datos.\")\n",
    "        return False\n",
    "\n",
    "    try:\n",
    "        # Verifica si el usuario ya existe\n",
    "        if user_exists(connection, username):\n",
    "            print(\"El usuario ya está registrado.\")\n",
    "            return False\n",
    "\n",
    "        # Valida la contraseña\n",
    "        if not validate_password(password):\n",
    "            print(\"La contraseña no cumple con los requisitos.\")\n",
    "            return False\n",
    "\n",
    "        # Encripta la contraseña\n",
    "        hashed_password = bcrypt.hashpw(password.encode(), bcrypt.gensalt())\n",
    "\n",
    "        # Inserta el usuario en la base de datos\n",
    "        cursor = connection.cursor()\n",
    "        query = \"INSERT INTO users (username, password_hash) VALUES (%s, %s)\"\n",
    "        cursor.execute(query, (username, hashed_password))\n",
    "        connection.commit()\n",
    "        print(\"Usuario registrado exitosamente.\")\n",
    "        return True\n",
    "    except mysql.connector.Error as err:\n",
    "        print(f\"Error al registrar el usuario: {err}\")\n",
    "        return False\n",
    "    finally:\n",
    "        connection.close()\n",
    "\n",
    "\n"
   ]
  },
  {
   "cell_type": "code",
   "execution_count": 11,
   "metadata": {},
   "outputs": [
    {
     "name": "stdout",
     "output_type": "stream",
     "text": [
      "Conexión exitosa a la base de datos.\n",
      "Usuario registrado exitosamente.\n"
     ]
    },
    {
     "data": {
      "text/plain": [
       "True"
      ]
     },
     "execution_count": 11,
     "metadata": {},
     "output_type": "execute_result"
    }
   ],
   "source": [
    "# Ejemplo de uso\n",
    "username = \"nuevo_usuarioffffsss45\"\n",
    "password = \"ContraseñaSegura@12saasss3\"\n",
    "register_user(username, password)"
   ]
  }
 ],
 "metadata": {
  "kernelspec": {
   "display_name": "DPCV",
   "language": "python",
   "name": "python3"
  },
  "language_info": {
   "codemirror_mode": {
    "name": "ipython",
    "version": 3
   },
   "file_extension": ".py",
   "mimetype": "text/x-python",
   "name": "python",
   "nbconvert_exporter": "python",
   "pygments_lexer": "ipython3",
   "version": "3.12.3"
  }
 },
 "nbformat": 4,
 "nbformat_minor": 2
}
